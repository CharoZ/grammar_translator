{
 "cells": [
  {
   "cell_type": "code",
   "execution_count": null,
   "metadata": {},
   "outputs": [],
   "source": [
    "import grammar_translator.translator as gt"
   ]
  },
  {
   "cell_type": "code",
   "execution_count": null,
   "metadata": {},
   "outputs": [],
   "source": [
    "banco = gt.cargar_diccionario_reglas(\"es\", \"cfg\")"
   ]
  },
  {
   "cell_type": "code",
   "execution_count": null,
   "metadata": {},
   "outputs": [],
   "source": [
    "terminales_taggeados, nt = gt.traduccion_terminales([\"gato\", \"Ricardo\", \"juega\", \"corre\", \"el\"])"
   ]
  },
  {
   "cell_type": "code",
   "execution_count": null,
   "metadata": {},
   "outputs": [],
   "source": [
    "reglas_nt = gt.creacion_gramatica(nt, banco)"
   ]
  },
  {
   "cell_type": "code",
   "execution_count": null,
   "metadata": {},
   "outputs": [],
   "source": [
    "print(terminales_taggeados)\n",
    "print(reglas_nt)"
   ]
  },
  {
   "cell_type": "code",
   "execution_count": null,
   "metadata": {},
   "outputs": [],
   "source": [
    "def unificacion_y_chequeo_reglas(reglas_nt, terminales_taggeados):\n",
    "    cat_nt = list(set(terminales_taggeados.values()))\n",
    "    for regla in reglas_nt:\n",
    "        go = True\n",
    "        while go:\n",
    "            reg_nt = regla.split('->')[1]\n",
    "            nts = reg_nt.split('\\s')\n",
    "            for nt in nts:\n",
    "                if nt in cat_nt:\n",
    "                    go = False\n",
    "                    \n",
    "                    \n",
    "\n",
    "            \n",
    "   \n",
    "        \n",
    "        \n",
    "    #para cortar el while: tiene que ser un terminal (estar en la lista cat_nt) \n",
    "    #o estar a la izquierda, si no cortar\n",
    "    \n",
    "    lista_taggeados = []\n",
    "    for k, v in terminales_taggeados.items():\n",
    "        lista_taggeados.append(f'{v} -> {k}')\n",
    "    reglas_totales = reglas_nt + lista_taggeados\n",
    "    return None\n",
    "\n",
    "def check(cat_nt, nt, reglas_nt):\n",
    "    if nt in cat_nt:\n",
    "        output = []\n",
    "    else:\n",
    "        go = 0\n",
    "        while go != False or go > (len(reglas_nt) - 1):\n",
    "            reg_nt = reglas_nt[go].split('->')\n",
    "            if reg_nt[0] == nt:\n",
    "                output = reg_nt[1].split('\\s')\n",
    "                go = False\n",
    "            else:\n",
    "                go += 1\n",
    "            \n",
    "    return output\n",
    "        \n",
    "    "
   ]
  },
  {
   "cell_type": "code",
   "execution_count": null,
   "metadata": {},
   "outputs": [],
   "source": [
    "output = \"\"\"\n",
    "          O -> SN SV\\n\n",
    "          SN -> NP\\n\n",
    "          SV -> FV SN\\n\n",
    "          SN -> D NC\\n\n",
    "          SV -> FV\\n\n",
    "          FV -> V\\n\n",
    "          NC -> \\'gato\\'\\n\n",
    "          NP -> \\'Ricardo\\'\\n\n",
    "          V -> \\'juega\\' | \\'corre\\'\\n\n",
    "          D -> \\'el\\'\\n\n",
    "          \"\"\""
   ]
  },
  {
   "cell_type": "code",
   "execution_count": null,
   "metadata": {},
   "outputs": [],
   "source": [
    "cat_nt = [\"NC\", \"NP\", \"V\", \"D\"]\n",
    "nt = \"SN\"\n",
    "\n",
    "def check(cat_nt, nt, reglas_nt):\n",
    "    output = False\n",
    "    if nt in cat_nt:\n",
    "        output = []\n",
    "    else:\n",
    "        go = 0\n",
    "        while go < len(reglas_nt):\n",
    "            reg_nt = reglas_nt[go].split(' -> ')\n",
    "            if reg_nt[0] == nt:\n",
    "                output = reg_nt[1].split(' ')\n",
    "                break\n",
    "            else:\n",
    "                go += 1\n",
    "            \n",
    "    return output\n",
    "\n",
    "test = check(cat_nt, nt, reglas_nt)\n",
    "print(test)"
   ]
  },
  {
   "cell_type": "code",
   "execution_count": null,
   "metadata": {},
   "outputs": [],
   "source": [
    "Pensar el while de la otra fn para que el check sirva porque es solo una parte, falta resolver cuando hay mas de una regla"
   ]
  },
  {
   "cell_type": "code",
   "execution_count": 21,
   "metadata": {},
   "outputs": [],
   "source": [
    "#Problema: si la primera vez que encuentra SN justo no tiene alguno de los \n",
    "#elementos de la derecha nunca va a validar SN aunque si exista un camino que llegue a un terminal\n",
    "import itertools\n",
    "\n",
    "def unificacion_y_chequeo_reglas(reglas_nt, terminales_taggeados):\n",
    "    cat_nt = list(set(terminales_taggeados.values()))\n",
    "    reglas_filtradas = []\n",
    "    for regla in reglas_nt:\n",
    "        simbolos_a_chequear = [regla.split(' -> ')[1]] # [\"SN SV\"]\n",
    "        go = True\n",
    "        while go:\n",
    "            chequeo_nt = [check_2(cat_nt, i, reglas_nt) for i in simbolos_a_chequear.split(' ')] #['NC NP', 'P'], False]\n",
    "            nuevos_simbolos = []\n",
    "            for reescritura in chequeo_nt:\n",
    "                if any in reescritura:\n",
    "                    chequeo_nt.remove(reescritura)\n",
    "                else\n",
    "                    \n",
    "                    \n",
    "    lista_taggeados = []\n",
    "    for k, v in terminales_taggeados.items():\n",
    "        lista_taggeados.append(f'{v} -> {k}')\n",
    "    reglas_totales = reglas_nt + lista_taggeados\n",
    "    return None\n",
    "\n",
    "def check_2(cat_nt, nt, reglas_nt):\n",
    "    #esta no devuelve el primero que encuentra sino q devuelve todo en una lista de \n",
    "    #partes derechas de reclas sin splittear\n",
    "    output = False\n",
    "    if nt in cat_nt:\n",
    "        output = True #Si aparece ya como cat_nt no deberìa cortar? Porque no se puede reescribir como nt y t al mismo tiempo\n",
    "    else:\n",
    "        go = 0\n",
    "        while go < len(reglas_nt):\n",
    "            reg_nt = reglas_nt[go].split(' -> ')\n",
    "            if reg_nt[0] == nt:\n",
    "                output.append(reg_nt[1])\n",
    "            else:\n",
    "                go += 1\n",
    "            \n",
    "    return output"
   ]
  },
  {
   "cell_type": "code",
   "execution_count": 1,
   "metadata": {},
   "outputs": [],
   "source": [
    "lista=[False, True, [\"lala\", \"papa\"], [\"batata\"]] #si alguno tiene False descartar esa reescritura, \n",
    "                            #si alguno esta todo vacio esta chequeada la regla, si no seguir buscando"
   ]
  },
  {
   "cell_type": "code",
   "execution_count": null,
   "metadata": {},
   "outputs": [],
   "source": [
    "check = [i for i in lista if i]"
   ]
  },
  {
   "cell_type": "code",
   "execution_count": 31,
   "metadata": {},
   "outputs": [
    {
     "data": {
      "text/plain": [
       "False"
      ]
     },
     "execution_count": 31,
     "metadata": {},
     "output_type": "execute_result"
    }
   ],
   "source": [
    "lala = [False, False]\n",
    "any in lala"
   ]
  },
  {
   "cell_type": "code",
   "execution_count": 32,
   "metadata": {},
   "outputs": [],
   "source": [
    "nueva=list(itertools.chain(*[i for i in lista if i != False]))"
   ]
  },
  {
   "cell_type": "code",
   "execution_count": 33,
   "metadata": {},
   "outputs": [
    {
     "data": {
      "text/plain": [
       "['lala', 'papa', 'batata']"
      ]
     },
     "execution_count": 33,
     "metadata": {},
     "output_type": "execute_result"
    }
   ],
   "source": [
    "nueva"
   ]
  },
  {
   "cell_type": "code",
   "execution_count": null,
   "metadata": {},
   "outputs": [],
   "source": []
  }
 ],
 "metadata": {
  "kernelspec": {
   "display_name": "Python 3",
   "language": "python",
   "name": "python3"
  },
  "language_info": {
   "codemirror_mode": {
    "name": "ipython",
    "version": 3
   },
   "file_extension": ".py",
   "mimetype": "text/x-python",
   "name": "python",
   "nbconvert_exporter": "python",
   "pygments_lexer": "ipython3",
   "version": "3.8.10"
  }
 },
 "nbformat": 4,
 "nbformat_minor": 5
}
