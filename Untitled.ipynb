{
 "cells": [
  {
   "cell_type": "code",
   "execution_count": 1,
   "id": "785a9e00-317f-4c36-8458-90082cbf2878",
   "metadata": {},
   "outputs": [],
   "source": [
    "import grammar_translator.translator as gt"
   ]
  },
  {
   "cell_type": "code",
   "execution_count": 2,
   "id": "4fea6eed-d490-41de-9c02-ac43adf4d48e",
   "metadata": {},
   "outputs": [],
   "source": [
    "banco = gt.cargar_diccionario_reglas(\"es\", \"cfg\")"
   ]
  },
  {
   "cell_type": "code",
   "execution_count": 3,
   "id": "a09cee56-73eb-4be4-b5ce-d3cf5b853e6f",
   "metadata": {},
   "outputs": [],
   "source": [
    "terminales_taggeados, nt = gt.traduccion_terminales([\"gato\", \"Ricardo\", \"juega\", \"corre\", \"el\"])"
   ]
  },
  {
   "cell_type": "code",
   "execution_count": 4,
   "id": "18a83b48-be6d-461f-8915-4e6c93638945",
   "metadata": {},
   "outputs": [],
   "source": [
    "reglas_nt = gt.creacion_gramatica(nt, banco)"
   ]
  },
  {
   "cell_type": "code",
   "execution_count": 5,
   "id": "e463e857-72b6-4b2f-ad40-e9c4e2b26beb",
   "metadata": {},
   "outputs": [
    {
     "name": "stdout",
     "output_type": "stream",
     "text": [
      "{'gato': 'NC', 'Ricardo': 'NP', 'juega': 'V', 'corre': 'V', 'el': 'D'}\n",
      "['SV -> FV', 'SV -> FV SN', 'SV -> FV SP', 'FV -> V', 'SN -> NP', 'O -> SN SV', 'SN -> D NC SP', 'SV -> FV SN SP', 'SN -> D NC', 'SP -> P SN', 'SV -> FV SP SP']\n"
     ]
    }
   ],
   "source": [
    "print(terminales_taggeados)\n",
    "print(reglas_nt)"
   ]
  },
  {
   "cell_type": "code",
   "execution_count": null,
   "id": "65a9efb1-20d3-42d5-b839-e10196cec24f",
   "metadata": {},
   "outputs": [],
   "source": [
    "def unificacion_y_chequeo_reglas(reglas_nt, terminales_taggeados):\n",
    "    cat_nt = list(set(terminales_taggeados.values()))\n",
    "    for regla in reglas_nt:\n",
    "        go = True\n",
    "        while go:\n",
    "            reg_nt = regla.split('->')[1]\n",
    "            nts = reg_nt.split('\\s')\n",
    "            for nt in nts:\n",
    "                if nt in cat_nt:\n",
    "                    go = False\n",
    "                    \n",
    "                    \n",
    "\n",
    "            \n",
    "   \n",
    "        \n",
    "        \n",
    "    #para cortar el while: tiene que ser un terminal (estar en la lista cat_nt) \n",
    "    #o estar a la izquierda, si no cortar\n",
    "    \n",
    "    lista_taggeados = []\n",
    "    for k, v in terminales_taggeados.items():\n",
    "        lista_taggeados.append(f'{v} -> {k}')\n",
    "    reglas_totales = reglas_nt + lista_taggeados\n",
    "    return None\n",
    "\n",
    "def check(cat_nt, nt, reglas_nt):\n",
    "    if nt in cat_nt:\n",
    "        output = []\n",
    "    else:\n",
    "        go = 0\n",
    "        while go != False or go > (len(reglas_nt) - 1):\n",
    "            reg_nt = reglas_nt[go].split('->')\n",
    "            if reg_nt[0] == nt:\n",
    "                output = reg_nt[1].split('\\s')\n",
    "                go = False\n",
    "            else:\n",
    "                go += 1\n",
    "            \n",
    "    return output\n",
    "        \n",
    "    "
   ]
  },
  {
   "cell_type": "code",
   "execution_count": null,
   "id": "a656b32b-ce94-49fd-9190-9d35ed5ec913",
   "metadata": {},
   "outputs": [],
   "source": [
    "output = \"\"\"\n",
    "          O -> SN SV\\n\n",
    "          SN -> NP\\n\n",
    "          SV -> FV SN\\n\n",
    "          SN -> D NC\\n\n",
    "          SV -> FV\\n\n",
    "          FV -> V\\n\n",
    "          NC -> \\'gato\\'\\n\n",
    "          NP -> \\'Ricardo\\'\\n\n",
    "          V -> \\'juega\\' | \\'corre\\'\\n\n",
    "          D -> \\'el\\'\\n\n",
    "          \"\"\""
   ]
  },
  {
   "cell_type": "code",
   "execution_count": 19,
   "id": "31e00d6b",
   "metadata": {},
   "outputs": [
    {
     "name": "stdout",
     "output_type": "stream",
     "text": [
      "['NP']\n"
     ]
    }
   ],
   "source": [
    "cat_nt = [\"NC\", \"NP\", \"V\", \"D\"]\n",
    "nt = \"SN\"\n",
    "\n",
    "def check(cat_nt, nt, reglas_nt):\n",
    "    output = False\n",
    "    if nt in cat_nt:\n",
    "        output = []\n",
    "    else:\n",
    "        go = 0\n",
    "        while go < len(reglas_nt):\n",
    "            reg_nt = reglas_nt[go].split(' -> ')\n",
    "            if reg_nt[0] == nt:\n",
    "                output = reg_nt[1].split(' ')\n",
    "                break\n",
    "            else:\n",
    "                go += 1\n",
    "            \n",
    "    return output\n",
    "\n",
    "test = check(cat_nt, nt, reglas_nt)\n",
    "print(test)"
   ]
  },
  {
   "cell_type": "code",
   "execution_count": null,
   "id": "1a483cf5",
   "metadata": {},
   "outputs": [],
   "source": [
    "Pensar el while de la otra fn para que el check sirva porque es solo una parte, falta resolver cuando hay mas de una regla"
   ]
  }
 ],
 "metadata": {
  "kernelspec": {
   "display_name": "Python 3 (ipykernel)",
   "language": "python",
   "name": "python3"
  },
  "language_info": {
   "codemirror_mode": {
    "name": "ipython",
    "version": 3
   },
   "file_extension": ".py",
   "mimetype": "text/x-python",
   "name": "python",
   "nbconvert_exporter": "python",
   "pygments_lexer": "ipython3",
   "version": "3.8.10"
  }
 },
 "nbformat": 4,
 "nbformat_minor": 5
}
