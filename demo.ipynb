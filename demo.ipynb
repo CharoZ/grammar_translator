{
 "cells": [
  {
   "cell_type": "markdown",
   "metadata": {},
   "source": [
    "**Universidad de Buenos Aires**    \n",
    "**Facultad de Filosofía y Letras**    \n",
    "Seminario: *Gramáticas Formales: formalismos e implementaciones*  \n",
    "Profesores: Carranza, Fernando. Zdrojewski, Pablo  \n",
    "\n",
    "**Trabajo práctico final**  \n",
    "Alumnos: Benitez, Sofía, Loinaz, Cristian, Zacchigna, Charo    \n"
   ]
  },
  {
   "cell_type": "code",
   "execution_count": null,
   "metadata": {},
   "outputs": [],
   "source": []
  }
 ],
 "metadata": {
  "kernelspec": {
   "display_name": "Python 3",
   "language": "python",
   "name": "python3"
  },
  "language_info": {
   "codemirror_mode": {
    "name": "ipython",
    "version": 3
   },
   "file_extension": ".py",
   "mimetype": "text/x-python",
   "name": "python",
   "nbconvert_exporter": "python",
   "pygments_lexer": "ipython3",
   "version": "3.8.10"
  }
 },
 "nbformat": 4,
 "nbformat_minor": 4
}
