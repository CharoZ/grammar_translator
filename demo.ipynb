{
 "cells": [
  {
   "cell_type": "markdown",
   "metadata": {},
   "source": [
    "**Universidad de Buenos Aires**    \n",
    "**Facultad de Filosofía y Letras**    \n",
    "Seminario: *Gramáticas Formales: formalismos e implementaciones*  \n",
    "Profesores: Carranza, Fernando. Zdrojewski, Pablo  \n",
    "\n",
    "**Trabajo Final**  \n",
    "Alumnos: Benitez, Sofía, Loinaz, Cristian, Zacchigna, Charo  \n",
    "\n",
    "*Consigna*: Hacer un algoritmo que traduzca las gramáticas basadas en constituyentes que usa NLTK en gramáticas categoriales y/o viceversa   \n"
   ]
  },
  {
   "cell_type": "code",
   "execution_count": null,
   "metadata": {},
   "outputs": [],
   "source": [
    "import grammar_translator.traductor as gm"
   ]
  },
  {
   "cell_type": "code",
   "execution_count": null,
   "metadata": {},
   "outputs": [],
   "source": [
    "#Llamamos a la fn orquestadora, pasamos como parámetro la gramática categorial a traducir, el idioma y el\n",
    "#tipo de gramática destino.\n",
    "\n",
    "cfg = gm.traduccion_gramatica(\"demo\",\"es\",\"cfg\")"
   ]
  }
 ],
 "metadata": {
  "kernelspec": {
   "display_name": "Python 3 (ipykernel)",
   "language": "python",
   "name": "python3"
  },
  "language_info": {
   "codemirror_mode": {
    "name": "ipython",
    "version": 3
   },
   "file_extension": ".py",
   "mimetype": "text/x-python",
   "name": "python",
   "nbconvert_exporter": "python",
   "pygments_lexer": "ipython3",
   "version": "3.8.10"
  }
 },
 "nbformat": 4,
 "nbformat_minor": 4
}
